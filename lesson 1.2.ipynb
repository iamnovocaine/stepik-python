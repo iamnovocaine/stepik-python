{
 "cells": [
  {
   "cell_type": "markdown",
   "metadata": {},
   "source": [
    "# Обработка html как текста #"
   ]
  },
  {
   "cell_type": "markdown",
   "metadata": {},
   "source": [
    "## Пример из урока ##\n",
    "\n",
    "Посчитатать, сколько раз в тексте статьи встречается сочетание C++"
   ]
  },
  {
   "cell_type": "code",
   "execution_count": 11,
   "metadata": {},
   "outputs": [
    {
     "name": "stdout",
     "output_type": "stream",
     "text": [
      "11\n"
     ]
    }
   ],
   "source": [
    "from urllib.request import urlopen\n",
    "res = urlopen(\"https://ru.wikipedia.org/wiki/Python\").read().decode('utf-8')\n",
    "ans = []\n",
    "state = 0\n",
    "for c in res:\n",
    "    if c == '<':\n",
    "        state = 1\n",
    "    if c == '>':\n",
    "        state = 0\n",
    "    elif state == 0:\n",
    "        ans.append(c)\n",
    "res = ''.join(ans)\n",
    "print(res.count('C++'))"
   ]
  },
  {
   "cell_type": "markdown",
   "metadata": {},
   "source": [
    "## Задание ##"
   ]
  },
  {
   "cell_type": "raw",
   "metadata": {},
   "source": [
    "Файл https://stepik.org/media/attachments/lesson/209719/2.html содержит статью с Википедии про язык Python. В этой статье есть теги code, которыми выделяются конструкции на языке Python. Вам нужно найти все строки, содержащиеся между тегами <code> и </code> и найти те строки, которые встречаются чаще всего и вывести их в алфавитном порядке, разделяя пробелами.\n",
    "\n",
    "Например, если исходный текст страницы выглядел бы так:\n",
    "\n",
    "<code>a</code>\n",
    "<a>bracadabr</a>\n",
    "<code>c</code>\n",
    "<code>b</code>\n",
    "<code>b</code>\n",
    "<code>c</code>\n",
    "то в ответ надо было бы ввести строку \"b c\".\n",
    "\n"
   ]
  },
  {
   "cell_type": "code",
   "execution_count": 1,
   "metadata": {},
   "outputs": [
    {
     "name": "stdout",
     "output_type": "stream",
     "text": [
      "else except finally try for return int yield or with reduce\n"
     ]
    }
   ],
   "source": [
    "from urllib.request import urlopen\n",
    "import re\n",
    "\n",
    "# сначала получим содержимое с удаленного сайта и преобразуем его в строку\n",
    "stroka = str(urlopen(\"https://stepik.org/media/attachments/lesson/209719/2.html\").read().decode('utf-8')) \n",
    "\n",
    "# найдем в строке все вхождения code, за исключением вложенных тегов, т.е. будем искать только буквы/цифры\n",
    "result = re.findall('<code>\\w+</code>', stroka)\n",
    "\n",
    "# в массиве mycounter будет находится все содержимое между тегами code\n",
    "mycounter = []\n",
    "for elem in result:    \n",
    "    mycounter.append(elem[6:-7])\n",
    "\n",
    "# далее в doubles мы оставим только те строки, которые встречаются более 1 раза (найдем повторения)\n",
    "counter = {}\n",
    "for elem in mycounter:\n",
    "    counter[elem] = counter.get(elem, 0) + 1\n",
    "doubles = {element: count for element, count in counter.items() if count > 1}\n",
    "\n",
    "# сортируем по убыванию элементы списка doubles (поиск по значению) и сохраняем их в массив itogSortedList\n",
    "itogSortedList = sorted(doubles.items(), key=lambda item: item[1], reverse = True)\n",
    "\n",
    "#print(itogSortedList)\n",
    "\n",
    "# в строке itogStr будет содержаться элементы списка, разделенные через пробел\n",
    "itogStr = ''\n",
    "for key in itogSortedList:\n",
    "    itogStr = itogStr + key[0] + ' '\n",
    "    \n",
    "# обрежем последний пробел    \n",
    "itogStr = itogStr[:-1]\n",
    "\n",
    "print(itogStr)"
   ]
  },
  {
   "cell_type": "code",
   "execution_count": 106,
   "metadata": {
    "scrolled": true
   },
   "outputs": [
    {
     "name": "stdout",
     "output_type": "stream",
     "text": [
      "{10: 3, 123: 2}\n"
     ]
    }
   ],
   "source": [
    "#Пример в помощь - найти элементы в массиве, которые встречаются больше 1 раза \n",
    "A = [10, 10, 23, 10, 123, 66, 78, 123]\n",
    "counter = {}\n",
    "\n",
    "for elem in A:\n",
    "    counter[elem] = counter.get(elem, 0) + 1\n",
    "\n",
    "doubles = {element: count for element, count in counter.items() if count > 1}\n",
    "\n",
    "print(doubles)"
   ]
  }
 ],
 "metadata": {
  "kernelspec": {
   "display_name": "Python 3",
   "language": "python",
   "name": "python3"
  },
  "language_info": {
   "codemirror_mode": {
    "name": "ipython",
    "version": 3
   },
   "file_extension": ".py",
   "mimetype": "text/x-python",
   "name": "python",
   "nbconvert_exporter": "python",
   "pygments_lexer": "ipython3",
   "version": "3.7.6"
  }
 },
 "nbformat": 4,
 "nbformat_minor": 4
}
